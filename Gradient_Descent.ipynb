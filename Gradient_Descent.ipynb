{
  "nbformat": 4,
  "nbformat_minor": 0,
  "metadata": {
    "colab": {
      "name": "Gradient Descent.ipynb",
      "provenance": [],
      "authorship_tag": "ABX9TyN4UpgA9rurGvQ0sDh11TuK",
      "include_colab_link": true
    },
    "kernelspec": {
      "name": "python3",
      "display_name": "Python 3"
    }
  },
  "cells": [
    {
      "cell_type": "markdown",
      "metadata": {
        "id": "view-in-github",
        "colab_type": "text"
      },
      "source": [
        "<a href=\"https://colab.research.google.com/github/Master-Bhavesh/Python/blob/master/Gradient_Descent.ipynb\" target=\"_parent\"><img src=\"https://colab.research.google.com/assets/colab-badge.svg\" alt=\"Open In Colab\"/></a>"
      ]
    },
    {
      "cell_type": "code",
      "metadata": {
        "id": "KOVSMEmNU3H5",
        "outputId": "92024262-59bd-46e6-b4c1-21fb04b9a958",
        "colab": {
          "base_uri": "https://localhost:8080/",
          "height": 34
        }
      },
      "source": [
        "#Parameters to test gradient descent\n",
        "import numpy as np\n",
        "\n",
        "i = 0\n",
        "precision = 0.000001\n",
        "learning_rate = 0.1\n",
        "max_iters = 10000\n",
        "df = lambda x: np.tanh(x)\n",
        "curr = 10\n",
        "step = 1\n",
        "\n",
        "while i < max_iters and step > precision:\n",
        "  prev = curr\n",
        "  curr = curr - learning_rate*df(prev) # The gradient descent\n",
        "  step = abs(curr - prev) #Change in value of x\n",
        "  i = i + 1\n",
        "  \n",
        "print (\"Local minimum occurs at: \" + str(curr))"
      ],
      "execution_count": 4,
      "outputs": [
        {
          "output_type": "stream",
          "text": [
            "Local minimum occurs at: 8.407407324637441e-06\n"
          ],
          "name": "stdout"
        }
      ]
    }
  ]
}